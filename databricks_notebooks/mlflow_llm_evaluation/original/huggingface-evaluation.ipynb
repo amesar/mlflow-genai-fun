{
 "cells": [
  {
   "cell_type": "markdown",
   "metadata": {
    "application/vnd.databricks.v1+cell": {
     "cellMetadata": {},
     "inputWidgets": {},
     "nuid": "9a91b2fa-113e-48da-87dc-7f372a76d14d",
     "showTitle": false,
     "title": ""
    }
   },
   "source": [
    "## Evaluate a Hugging Face LLM with `mlflow.evaluate()`\n",
    "\n",
    "This guide will show how to load a pre-trained Hugging Face pipeline, log it to MLflow, and use `mlflow.evaluate()` to evaluate builtin metrics as well as custom LLM-judged metrics for the model.\n",
    "\n",
    "For detailed information, please read the documentation on [using MLflow evaluate](https://mlflow.org/docs/latest/llms/llm-evaluate/index.html)."
   ]
  },
  {
   "cell_type": "markdown",
   "metadata": {
    "application/vnd.databricks.v1+cell": {
     "cellMetadata": {},
     "inputWidgets": {},
     "nuid": "ddd9d981-2f98-492b-b829-ffb366d98d79",
     "showTitle": false,
     "title": ""
    }
   },
   "source": [
    "<a href=\"https://raw.githubusercontent.com/mlflow/mlflow/master/docs/source/llms/llm-evaluate/notebooks/huggingface-evaluation.ipynb\" class=\"notebook-download-btn\"><i class=\"fas fa-download\"></i>Download this Notebook</a>"
   ]
  },
  {
   "cell_type": "markdown",
   "metadata": {
    "application/vnd.databricks.v1+cell": {
     "cellMetadata": {},
     "inputWidgets": {},
     "nuid": "7b7fddea-09ba-4d48-a9d7-68575be54d54",
     "showTitle": false,
     "title": ""
    }
   },
   "source": [
    "### Start MLflow Server\n",
    "\n",
    "You can either:\n",
    "\n",
    "- Start a local tracking server by running `mlflow ui` within the same directory that your notebook is in.\n",
    "- Use a tracking server, as described in [this overview](https://mlflow.org/docs/latest/getting-started/tracking-server-overview/index.html)."
   ]
  },
  {
   "cell_type": "markdown",
   "metadata": {
    "application/vnd.databricks.v1+cell": {
     "cellMetadata": {},
     "inputWidgets": {},
     "nuid": "0beb71e7-e03e-4457-a42e-b74486228576",
     "showTitle": false,
     "title": ""
    }
   },
   "source": [
    "### Install necessary dependencies"
   ]
  },
  {
   "cell_type": "code",
   "execution_count": 0,
   "metadata": {
    "application/vnd.databricks.v1+cell": {
     "cellMetadata": {},
     "inputWidgets": {},
     "nuid": "a9d39e62-a84a-4bbb-83e4-69c1a7e864f5",
     "showTitle": false,
     "title": ""
    }
   },
   "outputs": [],
   "source": [
    "%pip install -q mlflow transformers torch torchvision evaluate datasets openai tiktoken fastapi rouge_score textstat"
   ]
  },
  {
   "cell_type": "code",
   "execution_count": 0,
   "metadata": {
    "application/vnd.databricks.v1+cell": {
     "cellMetadata": {},
     "inputWidgets": {},
     "nuid": "361e26e8-ab36-4168-b601-a0157c7d702d",
     "showTitle": false,
     "title": ""
    }
   },
   "outputs": [],
   "source": [
    "# Necessary imports\n",
    "import warnings\n",
    "\n",
    "import pandas as pd\n",
    "from datasets import load_dataset\n",
    "from transformers import pipeline\n",
    "\n",
    "import mlflow\n",
    "from mlflow.metrics.genai import EvaluationExample, answer_correctness, make_genai_metric"
   ]
  },
  {
   "cell_type": "code",
   "execution_count": 0,
   "metadata": {
    "application/vnd.databricks.v1+cell": {
     "cellMetadata": {},
     "inputWidgets": {},
     "nuid": "2f9078cb-ab19-49ed-a255-201284b4ffa7",
     "showTitle": false,
     "title": ""
    }
   },
   "outputs": [],
   "source": [
    "# Disable FutureWarnings\n",
    "warnings.filterwarnings(\"ignore\", category=FutureWarning)"
   ]
  },
  {
   "cell_type": "markdown",
   "metadata": {
    "application/vnd.databricks.v1+cell": {
     "cellMetadata": {},
     "inputWidgets": {},
     "nuid": "cce41c28-67b2-460c-8da6-8d88247fe36b",
     "showTitle": false,
     "title": ""
    }
   },
   "source": [
    "### Load a pretrained Hugging Face pipeline\n",
    "\n",
    "Here we are loading a text generation pipeline, but you can also use either a text summarization or question answering pipeline."
   ]
  },
  {
   "cell_type": "code",
   "execution_count": 0,
   "metadata": {
    "application/vnd.databricks.v1+cell": {
     "cellMetadata": {},
     "inputWidgets": {},
     "nuid": "f394497c-a0a9-4bbd-b478-3e45134ed564",
     "showTitle": false,
     "title": ""
    }
   },
   "outputs": [],
   "source": [
    "mpt_pipeline = pipeline(\"text-generation\", model=\"mosaicml/mpt-7b-chat\")"
   ]
  },
  {
   "cell_type": "markdown",
   "metadata": {
    "application/vnd.databricks.v1+cell": {
     "cellMetadata": {},
     "inputWidgets": {},
     "nuid": "50717100-d832-423d-bdf5-8607293d4f9c",
     "showTitle": false,
     "title": ""
    }
   },
   "source": [
    "### Log the model using MLflow"
   ]
  },
  {
   "cell_type": "markdown",
   "metadata": {
    "application/vnd.databricks.v1+cell": {
     "cellMetadata": {},
     "inputWidgets": {},
     "nuid": "9b8c22f7-51f9-47e3-b037-cc35b7dfa7b7",
     "showTitle": false,
     "title": ""
    }
   },
   "source": [
    "We log our pipeline as an MLflow Model, which follows a standard format that lets you save a model in different \"flavors\" that can be understood by different downstream tools. In this case, the model is of the transformers \"flavor\"."
   ]
  },
  {
   "cell_type": "code",
   "execution_count": 0,
   "metadata": {
    "application/vnd.databricks.v1+cell": {
     "cellMetadata": {},
     "inputWidgets": {},
     "nuid": "f9e09df2-6f8b-4cec-ac3a-800e078678c3",
     "showTitle": false,
     "title": ""
    }
   },
   "outputs": [],
   "source": [
    "mlflow.set_experiment(\"Evaluate Hugging Face Text Pipeline\")\n",
    "\n",
    "# Define the signature\n",
    "signature = mlflow.models.infer_signature(\n",
    "    model_input=\"What are the three primary colors?\",\n",
    "    model_output=\"The three primary colors are red, yellow, and blue.\",\n",
    ")\n",
    "\n",
    "# Log the model using mlflow\n",
    "with mlflow.start_run():\n",
    "    model_info = mlflow.transformers.log_model(\n",
    "        transformers_model=mpt_pipeline,\n",
    "        artifact_path=\"mpt-7b\",\n",
    "        signature=signature,\n",
    "        registered_model_name=\"mpt-7b-chat\",\n",
    "    )"
   ]
  },
  {
   "cell_type": "markdown",
   "metadata": {
    "application/vnd.databricks.v1+cell": {
     "cellMetadata": {},
     "inputWidgets": {},
     "nuid": "f856a412-6227-491a-8f3e-9fa724f75d7f",
     "showTitle": false,
     "title": ""
    }
   },
   "source": [
    "### Load Evaluation Data\n",
    "\n",
    "Load in a dataset from Hugging Face Hub to use for evaluation.\n",
    "\n",
    "The data fields in the dataset below represent:\n",
    "\n",
    "- **instruction**: Describes the task that the model should perform. Each row within the dataset is a unique instruction (task) to be performed.\n",
    "- **input**: Optional contextual information that relates to the task defined in the `instruction` field. For example, for the instruction \"Identify the odd one out\", the `input` contextual guidance is given as the list of items to select an outlier from, \"Twitter, Instagram, Telegram\". \n",
    "- **output**: The answer to the instruction (with the optional `input` context provided) as generated by the original evaluation model (`text-davinci-003` from OpenAI)\n",
    "- **text**: The final total text as a result of applying the `instruction`, `input`, and `output` to the prompt template used, which is sent to the model for fine tuning purposes."
   ]
  },
  {
   "cell_type": "code",
   "execution_count": 0,
   "metadata": {
    "application/vnd.databricks.v1+cell": {
     "cellMetadata": {},
     "inputWidgets": {},
     "nuid": "127f7c1b-7cb6-4f27-9070-c3e23498cdbd",
     "showTitle": false,
     "title": ""
    }
   },
   "outputs": [],
   "source": [
    "dataset = load_dataset(\"tatsu-lab/alpaca\")\n",
    "eval_df = pd.DataFrame(dataset[\"train\"])\n",
    "eval_df.head(10)"
   ]
  },
  {
   "cell_type": "markdown",
   "metadata": {
    "application/vnd.databricks.v1+cell": {
     "cellMetadata": {},
     "inputWidgets": {},
     "nuid": "529b0cb8-5af4-469b-9b10-46572689a6a6",
     "showTitle": false,
     "title": ""
    }
   },
   "source": [
    "### Define Metrics\n",
    "\n",
    "Since we are evaluating how well our model can provide an answer to a given instruction, we may want to choose some metrics to help measure this on top of any builtin metrics that `mlflow.evaluate()` gives us.\n",
    "\n",
    "Let's measure how well our model is doing on the following two metrics:\n",
    "\n",
    "- **Is the answer correct?** Let's use the predefined metric `answer_correctness` here.\n",
    "- **Is the answer fluent, clear, and concise?** We will define a custom metric `answer_quality` to measure this.\n",
    "\n",
    "We will need to pass both of these into the `extra_metrics` argument for `mlflow.evaluate()` in order to assess the quality of our model.\n",
    "\n",
    "#### What is an Evaluation Metric?\n",
    "\n",
    "An evaluation metric encapsulates any quantitative or qualitative measure you want to calculate for your model. For each model type, `mlflow.evaluate()` will automatically calculate some set of builtin metrics. Refer [here](https://mlflow.org/docs/latest/python_api/mlflow.html#mlflow.evaluate) for which builtin metrics will be calculated for each model type. You can also pass in any other metrics you want to calculate as extra metrics. MLflow provides a set of predefined metrics that you can find [here](https://mlflow.org/docs/latest/python_api/mlflow.metrics.html), or you can define your own custom metrics. In the example here, we will use the combination of predefined metrics `mlflow.metrics.genai.answer_correctness` and a custom metric for the quality evaluation."
   ]
  },
  {
   "cell_type": "markdown",
   "metadata": {
    "application/vnd.databricks.v1+cell": {
     "cellMetadata": {},
     "inputWidgets": {},
     "nuid": "62ea43c9-7f25-4b1a-b3e2-34b6ea9c6d04",
     "showTitle": false,
     "title": ""
    }
   },
   "source": [
    "Let's load our predefined metrics - in this case we are using `answer_correctness` with GPT-4."
   ]
  },
  {
   "cell_type": "code",
   "execution_count": 0,
   "metadata": {
    "application/vnd.databricks.v1+cell": {
     "cellMetadata": {},
     "inputWidgets": {},
     "nuid": "b123d29d-02c9-4b6d-81b0-505b3ebd9fcf",
     "showTitle": false,
     "title": ""
    }
   },
   "outputs": [],
   "source": [
    "answer_correctness_metric = answer_correctness(model=\"openai:/gpt-4\")"
   ]
  },
  {
   "cell_type": "markdown",
   "metadata": {
    "application/vnd.databricks.v1+cell": {
     "cellMetadata": {},
     "inputWidgets": {},
     "nuid": "794abfe9-765a-4063-8d3d-f775f3acd55a",
     "showTitle": false,
     "title": ""
    }
   },
   "source": [
    "Now we want to create a custom LLM-judged metric named `answer_quality` using `make_genai_metric()`. We need to define a metric definition and grading rubric, as well as some examples for the LLM judge to use."
   ]
  },
  {
   "cell_type": "code",
   "execution_count": 0,
   "metadata": {
    "application/vnd.databricks.v1+cell": {
     "cellMetadata": {},
     "inputWidgets": {},
     "nuid": "73e0dfb5-bff5-4500-9ef9-2f197960e02d",
     "showTitle": false,
     "title": ""
    }
   },
   "outputs": [],
   "source": [
    "# The definition explains what \"answer quality\" entails\n",
    "answer_quality_definition = \"\"\"Please evaluate answer quality for the provided output on the following criteria:\n",
    "fluency, clarity, and conciseness. Each of the criteria is defined as follows:\n",
    "  - Fluency measures how naturally and smooth the output reads.\n",
    "  - Clarity measures how understandable the output is.\n",
    "  - Conciseness measures the brevity and efficiency of the output without compromising meaning.\n",
    "The more fluent, clear, and concise a text, the higher the score it deserves.\n",
    "\"\"\"\n",
    "\n",
    "# The grading prompt explains what each possible score means\n",
    "answer_quality_grading_prompt = \"\"\"Answer quality: Below are the details for different scores:\n",
    "  - Score 1: The output is entirely incomprehensible and cannot be read.\n",
    "  - Score 2: The output conveys some meaning, but needs lots of improvement in to improve fluency, clarity, and conciseness.\n",
    "  - Score 3: The output is understandable but still needs improvement.\n",
    "  - Score 4: The output performs well on two of fluency, clarity, and conciseness, but could be improved on one of these criteria.\n",
    "  - Score 5: The output reads smoothly, is easy to understand, and clear. There is no clear way to improve the output on these criteria.\n",
    "\"\"\"\n",
    "\n",
    "# We provide an example of a \"bad\" output\n",
    "example1 = EvaluationExample(\n",
    "    input=\"What is MLflow?\",\n",
    "    output=\"MLflow is an open-source platform. For managing machine learning workflows, it \"\n",
    "    \"including experiment tracking model packaging versioning and deployment as well as a platform \"\n",
    "    \"simplifying for on the ML lifecycle.\",\n",
    "    score=2,\n",
    "    justification=\"The output is difficult to understand and demonstrates extremely low clarity. \"\n",
    "    \"However, it still conveys some meaning so this output deserves a score of 2.\",\n",
    ")\n",
    "\n",
    "# We also provide an example of a \"good\" output\n",
    "example2 = EvaluationExample(\n",
    "    input=\"What is MLflow?\",\n",
    "    output=\"MLflow is an open-source platform for managing machine learning workflows, including \"\n",
    "    \"experiment tracking, model packaging, versioning, and deployment.\",\n",
    "    score=5,\n",
    "    justification=\"The output is easily understandable, clear, and concise. It deserves a score of 5.\",\n",
    ")\n",
    "\n",
    "answer_quality_metric = make_genai_metric(\n",
    "    name=\"answer_quality\",\n",
    "    definition=answer_quality_definition,\n",
    "    grading_prompt=answer_quality_grading_prompt,\n",
    "    version=\"v1\",\n",
    "    examples=[example1, example2],\n",
    "    model=\"openai:/gpt-4\",\n",
    "    greater_is_better=True,\n",
    ")"
   ]
  },
  {
   "cell_type": "markdown",
   "metadata": {
    "application/vnd.databricks.v1+cell": {
     "cellMetadata": {},
     "inputWidgets": {},
     "nuid": "1b8795b2-dea3-45fb-a10f-7520abc9de9f",
     "showTitle": false,
     "title": ""
    }
   },
   "source": [
    "### Evaluate"
   ]
  },
  {
   "cell_type": "markdown",
   "metadata": {
    "application/vnd.databricks.v1+cell": {
     "cellMetadata": {},
     "inputWidgets": {},
     "nuid": "32154af9-d20d-4455-b99b-7ad894e4feb4",
     "showTitle": false,
     "title": ""
    }
   },
   "source": [
    "We need to set our OpenAI API key, since we are using GPT-4 for our LLM-judged metrics.\n",
    "\n",
    "In order to set your private key safely, please be sure to either export your key through a command-line terminal for your current instance, or, for a permanent addition to all user-based sessions, configure your favored environment management configuration file (i.e., .bashrc, .zshrc) to have the following entry:\n",
    "\n",
    "`OPENAI_API_KEY=<your openai API key>`"
   ]
  },
  {
   "cell_type": "markdown",
   "metadata": {
    "application/vnd.databricks.v1+cell": {
     "cellMetadata": {},
     "inputWidgets": {},
     "nuid": "d00cb759-d38b-48bf-8f1b-f997ddd54dcb",
     "showTitle": false,
     "title": ""
    }
   },
   "source": [
    "Now, we can call `mlflow.evaluate()`. Just to test it out, let's use the first 10 rows of the data. Using the `\"text\"` model type, toxicity and readability metrics are calculated as builtin metrics. We also pass in the two metrics we defined above into the `extra_metrics` parameter to be evaluated."
   ]
  },
  {
   "cell_type": "code",
   "execution_count": 0,
   "metadata": {
    "application/vnd.databricks.v1+cell": {
     "cellMetadata": {},
     "inputWidgets": {},
     "nuid": "38bb973f-c11c-4111-b878-5301ba3c2b9b",
     "showTitle": false,
     "title": ""
    }
   },
   "outputs": [],
   "source": [
    "with mlflow.start_run():\n",
    "    results = mlflow.evaluate(\n",
    "        model_info.model_uri,\n",
    "        eval_df.head(10),\n",
    "        evaluators=\"default\",\n",
    "        model_type=\"text\",\n",
    "        targets=\"output\",\n",
    "        extra_metrics=[answer_correctness_metric, answer_quality_metric],\n",
    "        evaluator_config={\"col_mapping\": {\"inputs\": \"instruction\"}},\n",
    "    )"
   ]
  },
  {
   "cell_type": "markdown",
   "metadata": {
    "application/vnd.databricks.v1+cell": {
     "cellMetadata": {},
     "inputWidgets": {},
     "nuid": "1e9e3923-d576-4c9c-a4e2-7fce84899590",
     "showTitle": false,
     "title": ""
    }
   },
   "source": [
    "### View results"
   ]
  },
  {
   "cell_type": "markdown",
   "metadata": {
    "application/vnd.databricks.v1+cell": {
     "cellMetadata": {},
     "inputWidgets": {},
     "nuid": "afd98191-f27e-4c5d-ab3a-34e1fc2ad4e2",
     "showTitle": false,
     "title": ""
    }
   },
   "source": [
    "`results.metrics` is a dictionary with the aggregate values for all the metrics calculated. Refer [here](https://mlflow.org/docs/latest/python_api/mlflow.html#mlflow.evaluate) for details on the builtin metrics for each model type."
   ]
  },
  {
   "cell_type": "code",
   "execution_count": 0,
   "metadata": {
    "application/vnd.databricks.v1+cell": {
     "cellMetadata": {},
     "inputWidgets": {},
     "nuid": "296d974d-cbd3-4f63-802b-4b81423e760e",
     "showTitle": false,
     "title": ""
    }
   },
   "outputs": [],
   "source": [
    "results.metrics"
   ]
  },
  {
   "cell_type": "markdown",
   "metadata": {
    "application/vnd.databricks.v1+cell": {
     "cellMetadata": {},
     "inputWidgets": {},
     "nuid": "d95c5fa9-90b4-424d-a2aa-f67369fcc49a",
     "showTitle": false,
     "title": ""
    }
   },
   "source": [
    "We can also view the `eval_results_table`, which shows us the metrics for each row of data."
   ]
  },
  {
   "cell_type": "code",
   "execution_count": 0,
   "metadata": {
    "application/vnd.databricks.v1+cell": {
     "cellMetadata": {},
     "inputWidgets": {},
     "nuid": "3dd4a3fe-c007-42c1-9f7d-a01ba5f138fe",
     "showTitle": false,
     "title": ""
    }
   },
   "outputs": [],
   "source": [
    "results.tables[\"eval_results_table\"]"
   ]
  },
  {
   "cell_type": "markdown",
   "metadata": {
    "application/vnd.databricks.v1+cell": {
     "cellMetadata": {},
     "inputWidgets": {},
     "nuid": "6e00e0b5-7dca-40a9-a1a2-4ebcf8d9aa61",
     "showTitle": false,
     "title": ""
    }
   },
   "source": [
    "#### View results in UI"
   ]
  },
  {
   "cell_type": "markdown",
   "metadata": {
    "application/vnd.databricks.v1+cell": {
     "cellMetadata": {},
     "inputWidgets": {},
     "nuid": "19cb8a9f-33fa-492c-9ef0-8698df134c73",
     "showTitle": false,
     "title": ""
    }
   },
   "source": [
    "Finally, we can view our evaluation results in the MLflow UI. We can select our experiment on the left sidebar, which will bring us to the following page. We can see that one run logged our model \"mpt-7b-chat\", and the other run has the dataset we evaluated."
   ]
  },
  {
   "cell_type": "markdown",
   "metadata": {
    "application/vnd.databricks.v1+cell": {
     "cellMetadata": {},
     "inputWidgets": {},
     "nuid": "d103d95e-2d8e-4150-a66a-e32e5e6defb2",
     "showTitle": false,
     "title": ""
    }
   },
   "source": [
    "![Evaluation Main](https://i.imgur.com/alymcBq.png)"
   ]
  },
  {
   "cell_type": "markdown",
   "metadata": {
    "application/vnd.databricks.v1+cell": {
     "cellMetadata": {},
     "inputWidgets": {},
     "nuid": "26813a98-c3de-473a-a92c-cd862a2cc314",
     "showTitle": false,
     "title": ""
    }
   },
   "source": [
    "We click on the Evaluation tab and hide any irrelevant runs."
   ]
  },
  {
   "cell_type": "markdown",
   "metadata": {
    "application/vnd.databricks.v1+cell": {
     "cellMetadata": {},
     "inputWidgets": {},
     "nuid": "69c56a5e-2a35-44fd-8147-275eea6441bd",
     "showTitle": false,
     "title": ""
    }
   },
   "source": [
    "![Evaluation Filtering](https://i.imgur.com/sr7R9TL.png)"
   ]
  },
  {
   "cell_type": "markdown",
   "metadata": {
    "application/vnd.databricks.v1+cell": {
     "cellMetadata": {},
     "inputWidgets": {},
     "nuid": "f8331070-a49d-46ed-93f8-67d4d66424ce",
     "showTitle": false,
     "title": ""
    }
   },
   "source": [
    "We can now choose what columns we want to group by, as well as which column we want to compare. In the following example, we are looking at the score for answer correctness for each input-output pair, but we could choose any other metric to compare."
   ]
  },
  {
   "cell_type": "markdown",
   "metadata": {
    "application/vnd.databricks.v1+cell": {
     "cellMetadata": {},
     "inputWidgets": {},
     "nuid": "4da62128-fd30-4650-8aa0-016d8f2fe0d0",
     "showTitle": false,
     "title": ""
    }
   },
   "source": [
    "![Evaluation Selection](https://i.imgur.com/AeoYMEt.png)"
   ]
  },
  {
   "cell_type": "markdown",
   "metadata": {
    "application/vnd.databricks.v1+cell": {
     "cellMetadata": {},
     "inputWidgets": {},
     "nuid": "db25a7c1-cb9d-4298-95db-8b4b46ae2c96",
     "showTitle": false,
     "title": ""
    }
   },
   "source": [
    "Finally, we get to the following view, where we can see the justification and score for answer correctness for each row."
   ]
  },
  {
   "cell_type": "markdown",
   "metadata": {
    "application/vnd.databricks.v1+cell": {
     "cellMetadata": {},
     "inputWidgets": {},
     "nuid": "75abeebe-de36-4909-8f6e-6cb189f5c96b",
     "showTitle": false,
     "title": ""
    }
   },
   "source": [
    "![Evaluation Comparison](https://i.imgur.com/axsHZxP.png)"
   ]
  }
 ],
 "metadata": {
  "application/vnd.databricks.v1+notebook": {
   "dashboards": [],
   "language": "python",
   "notebookMetadata": {},
   "notebookName": "huggingface-evaluation",
   "widgets": {}
  },
  "kernelspec": {
   "display_name": "Python 3",
   "language": "python",
   "name": "python3"
  },
  "language_info": {
   "codemirror_mode": {
    "name": "ipython",
    "version": 3
   },
   "file_extension": ".py",
   "mimetype": "text/x-python",
   "name": "python",
   "nbconvert_exporter": "python",
   "pygments_lexer": "ipython3",
   "version": "3.8.17"
  }
 },
 "nbformat": 4,
 "nbformat_minor": 0
}
